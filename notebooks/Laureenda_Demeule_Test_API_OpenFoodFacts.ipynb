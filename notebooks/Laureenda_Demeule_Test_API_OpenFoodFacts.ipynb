{
  "cells": [
    {
      "cell_type": "markdown",
      "metadata": {},
      "source": [
        "# Test de l'API Open Food Facts - Extraction de produits \"Champagne\"\n",
        "\n",
        "**Projet P6 - Place de Marché**\n",
        "\n",
        "**Objectif** : Tester la collecte de produits à base de champagne via l'API Open Food Facts pour élargir la gamme de produits à l'épicerie fine.\n",
        "\n",
        "**Livrable** : Script Python permettant l'extraction des 10 premiers produits dans un fichier CSV contenant :\n",
        "- `foodId` : Identifiant du produit\n",
        "- `label` : Nom du produit\n",
        "- `category` : Catégorie du produit\n",
        "- `foodContentsLabel` : Description/ingrédients du produit\n",
        "- `image` : URL de l'image du produit\n",
        "\n",
        "---\n",
        "\n",
        "## 📚 Documentation API Open Food Facts\n",
        "\n",
        "- **API Endpoint** : https://world.openfoodfacts.org/api/v2/search\n",
        "- **Documentation** : https://openfoodfacts.github.io/openfoodfacts-server/api/\n",
        "- **Rate Limit** : 10 req/min pour les recherches\n",
        "- **User-Agent requis** : Format `AppName/Version (ContactEmail)`\n"
      ]
    },
    {
      "cell_type": "markdown",
      "metadata": {},
      "source": [
        "## 1. Installation et Imports\n"
      ]
    },
    {
      "cell_type": "code",
      "execution_count": null,
      "metadata": {},
      "outputs": [],
      "source": [
        "import requests\n",
        "import pandas as pd\n",
        "import json\n",
        "from pathlib import Path\n",
        "from datetime import datetime\n",
        "import time"
      ]
    },
    {
      "cell_type": "markdown",
      "metadata": {},
      "source": [
        "## 2. Configuration de l'API\n"
      ]
    },
    {
      "cell_type": "code",
      "execution_count": 13,
      "metadata": {},
      "outputs": [
        {
          "name": "stdout",
          "output_type": "stream",
          "text": [
            "✅ Configuration de l'API initialisée\n",
            "📍 Endpoint : https://world.openfoodfacts.org/cgi/search.pl\n"
          ]
        }
      ],
      "source": [
        "# Configuration de l'API Open Food Facts\n",
        "API_BASE_URL = \"https://world.openfoodfacts.org\"\n",
        "API_SEARCH_ENDPOINT = f\"{API_BASE_URL}/cgi/search.pl\"\n",
        "\n",
        "# User-Agent personnalisé (obligatoire selon la documentation)\n",
        "HEADERS = {\n",
        "    'User-Agent': 'PlaceDeMarche/1.0 (laureendademeule@example.com)'\n",
        "}\n",
        "\n",
        "print(\"✅ Configuration de l'API initialisée\")\n",
        "print(f\"📍 Endpoint : {API_SEARCH_ENDPOINT}\")\n"
      ]
    },
    {
      "cell_type": "markdown",
      "metadata": {},
      "source": [
        "## 3. Fonction de recherche de produits\n"
      ]
    },
    {
      "cell_type": "code",
      "execution_count": 14,
      "metadata": {},
      "outputs": [],
      "source": [
        "def search_products(search_term, page_size=10, page=1):\n",
        "    \"\"\"\n",
        "    Recherche des produits sur Open Food Facts\n",
        "    \n",
        "    Parameters:\n",
        "    -----------\n",
        "    search_term : str\n",
        "        Terme de recherche (ex: 'champagne')\n",
        "    page_size : int\n",
        "        Nombre de résultats par page (max 100)\n",
        "    page : int\n",
        "        Numéro de page\n",
        "        \n",
        "    Returns:\n",
        "    --------\n",
        "    dict : Résultats de la recherche au format JSON\n",
        "    \"\"\"\n",
        "    \n",
        "    params = {\n",
        "        'search_terms': search_term,\n",
        "        'page_size': page_size,\n",
        "        'page': page,\n",
        "        'json': 1,  # Format JSON\n",
        "        'fields': 'code,product_name,categories,categories_tags,ingredients_text,image_url,image_front_url,brands,nutriscore_grade'\n",
        "    }\n",
        "    \n",
        "    try:\n",
        "        print(f\"🔍 Recherche de produits contenant '{search_term}'...\")\n",
        "        response = requests.get(API_SEARCH_ENDPOINT, params=params, headers=HEADERS)\n",
        "        response.raise_for_status()\n",
        "        \n",
        "        data = response.json()\n",
        "        print(f\"✅ {data.get('count', 0)} produits trouvés\")\n",
        "        print(f\"📦 {len(data.get('products', []))} produits récupérés\")\n",
        "        \n",
        "        return data\n",
        "        \n",
        "    except requests.exceptions.RequestException as e:\n",
        "        print(f\"❌ Erreur lors de la requête API : {e}\")\n",
        "        return None\n"
      ]
    },
    {
      "cell_type": "markdown",
      "metadata": {},
      "source": [
        "## 4. Fonction d'extraction et de formatage des données\n"
      ]
    },
    {
      "cell_type": "code",
      "execution_count": 15,
      "metadata": {},
      "outputs": [],
      "source": [
        "def extract_product_data(products):\n",
        "    \"\"\"\n",
        "    Extrait et formate les données des produits selon le format requis\n",
        "    \n",
        "    Parameters:\n",
        "    -----------\n",
        "    products : list\n",
        "        Liste des produits retournés par l'API\n",
        "        \n",
        "    Returns:\n",
        "    --------\n",
        "    list : Liste de dictionnaires contenant les données formatées\n",
        "    \"\"\"\n",
        "    \n",
        "    extracted_data = []\n",
        "    \n",
        "    for product in products:\n",
        "        # Extraction des données avec gestion des valeurs manquantes\n",
        "        product_data = {\n",
        "            'foodId': product.get('code', 'N/A'),\n",
        "            'label': product.get('product_name', 'N/A'),\n",
        "            'category': product.get('categories', 'N/A'),\n",
        "            'foodContentsLabel': product.get('ingredients_text', 'N/A'),\n",
        "            'image': product.get('image_front_url', product.get('image_url', 'N/A'))\n",
        "        }\n",
        "        \n",
        "        extracted_data.append(product_data)\n",
        "    \n",
        "    print(f\"✅ {len(extracted_data)} produits extraits et formatés\")\n",
        "    return extracted_data\n"
      ]
    },
    {
      "cell_type": "markdown",
      "metadata": {},
      "source": [
        "## 5. Fonction de sauvegarde en CSV\n"
      ]
    },
    {
      "cell_type": "code",
      "execution_count": 16,
      "metadata": {},
      "outputs": [],
      "source": [
        "def save_to_csv(data, filename='produits_champagne.csv'):\n",
        "    \"\"\"\n",
        "    Sauvegarde les données dans un fichier CSV\n",
        "    \n",
        "    Parameters:\n",
        "    -----------\n",
        "    data : list\n",
        "        Liste de dictionnaires contenant les données\n",
        "    filename : str\n",
        "        Nom du fichier CSV de sortie\n",
        "        \n",
        "    Returns:\n",
        "    --------\n",
        "    str : Chemin complet du fichier sauvegardé\n",
        "    \"\"\"\n",
        "    \n",
        "    # Créer le DataFrame\n",
        "    df = pd.DataFrame(data)\n",
        "    \n",
        "    # Définir le chemin de sortie\n",
        "    output_dir = Path('../notebooks')\n",
        "    output_dir.mkdir(parents=True, exist_ok=True)\n",
        "    \n",
        "    output_path = output_dir / filename\n",
        "    \n",
        "    # Sauvegarder en CSV\n",
        "    df.to_csv(output_path, index=False, encoding='utf-8')\n",
        "    \n",
        "    print(f\"\\n💾 Fichier CSV sauvegardé : {output_path}\")\n",
        "    print(f\"📊 Dimensions : {df.shape[0]} lignes × {df.shape[1]} colonnes\")\n",
        "    \n",
        "    return str(output_path)\n"
      ]
    },
    {
      "cell_type": "markdown",
      "metadata": {},
      "source": [
        "## 6. Exécution : Recherche et extraction des produits \"Champagne\"\n"
      ]
    },
    {
      "cell_type": "code",
      "execution_count": 17,
      "metadata": {},
      "outputs": [
        {
          "name": "stdout",
          "output_type": "stream",
          "text": [
            "======================================================================\n",
            "🍾 EXTRACTION DE PRODUITS 'CHAMPAGNE' VIA API OPEN FOOD FACTS\n",
            "======================================================================\n",
            "\n",
            "📅 Date : 2025-10-03 17:49:28\n",
            "🔎 Terme de recherche : 'champagne'\n",
            "📦 Nombre de produits à extraire : 10\n",
            "\n",
            "----------------------------------------------------------------------\n",
            "\n",
            "🔍 Recherche de produits contenant 'champagne'...\n",
            "✅ 1534 produits trouvés\n",
            "📦 10 produits récupérés\n",
            "✅ 10 produits extraits et formatés\n",
            "\n",
            "💾 Fichier CSV sauvegardé : ../notebooks/produits_champagne.csv\n",
            "📊 Dimensions : 10 lignes × 5 colonnes\n",
            "\n",
            "======================================================================\n",
            "✅ EXTRACTION TERMINÉE AVEC SUCCÈS\n",
            "======================================================================\n"
          ]
        }
      ],
      "source": [
        "# Paramètres de recherche\n",
        "SEARCH_TERM = \"champagne\"\n",
        "NUM_PRODUCTS = 10\n",
        "\n",
        "print(\"=\"*70)\n",
        "print(\"🍾 EXTRACTION DE PRODUITS 'CHAMPAGNE' VIA API OPEN FOOD FACTS\")\n",
        "print(\"=\"*70)\n",
        "print(f\"\\n📅 Date : {datetime.now().strftime('%Y-%m-%d %H:%M:%S')}\")\n",
        "print(f\"🔎 Terme de recherche : '{SEARCH_TERM}'\")\n",
        "print(f\"📦 Nombre de produits à extraire : {NUM_PRODUCTS}\")\n",
        "print(\"\\n\" + \"-\"*70 + \"\\n\")\n",
        "\n",
        "# 1. Recherche des produits\n",
        "results = search_products(SEARCH_TERM, page_size=NUM_PRODUCTS)\n",
        "\n",
        "if results and 'products' in results:\n",
        "    # 2. Extraction des données\n",
        "    products_data = extract_product_data(results['products'])\n",
        "    \n",
        "    # 3. Sauvegarde en CSV\n",
        "    csv_path = save_to_csv(products_data, filename='produits_champagne.csv')\n",
        "    \n",
        "    print(\"\\n\" + \"=\"*70)\n",
        "    print(\"✅ EXTRACTION TERMINÉE AVEC SUCCÈS\")\n",
        "    print(\"=\"*70)\n",
        "else:\n",
        "    print(\"\\n❌ ERREUR : Aucun produit n'a pu être récupéré\")\n"
      ]
    },
    {
      "cell_type": "markdown",
      "metadata": {},
      "source": [
        "## 7. Visualisation des résultats\n"
      ]
    },
    {
      "cell_type": "code",
      "execution_count": 18,
      "metadata": {},
      "outputs": [
        {
          "name": "stdout",
          "output_type": "stream",
          "text": [
            "\n",
            "📊 APERÇU DES DONNÉES EXTRAITES\n",
            "\n",
            "          foodId                                              label  \\\n",
            "0  8001841769189                                                N/A   \n",
            "1  3039820510250  Vivien Paille Lentilles vertes le paquet de 500 g   \n",
            "2  3292070010264  Betteraves de Champagne & chèvre crémeux, poin...   \n",
            "3  3113934004147                                     Canard Duchêne   \n",
            "4  4820097815556                              Splashes of champagne   \n",
            "5  4056489843696                      Rillettes de homard au cognac   \n",
            "6  3760091726964                                Lentilles roses bio   \n",
            "7  3258431220000                                                      \n",
            "8  3114080034057                                     Champagne rosé   \n",
            "9  3185370729960                            Champagne Impérial Brut   \n",
            "\n",
            "                                            category  \\\n",
            "0                                Produits,Champagnes   \n",
            "1  Aliments et boissons à base de végétaux, Alime...   \n",
            "2                                     Salted spreads   \n",
            "3  Boissons, Boissons alcoolisées, Vins, Vins eff...   \n",
            "4                                                N/A   \n",
            "5  Seafood, Fishes and their products, Fish prepa...   \n",
            "6  Aliments et boissons à base de végétaux,Alimen...   \n",
            "7  Boissons, Boissons alcoolisées, Vins, Vins eff...   \n",
            "8  Bebidas, Bebidas alcohólicas, Vinos, Vinos esp...   \n",
            "9  Getränke und Getränkezubereitungen, Getränke, ...   \n",
            "\n",
            "                                   foodContentsLabel  \\\n",
            "0                                                N/A   \n",
            "1                                  Lentilles vertes.   \n",
            "2  Pois chiches 44% - purée de betterave rouge 37...   \n",
            "3                            Pinots et de Chardonnay   \n",
            "4                                                N/A   \n",
            "5  Chair de homard américain 49%, huile de colza,...   \n",
            "6                                          Lentilles   \n",
            "7                                          Champagne   \n",
            "8                                                      \n",
            "9                                                      \n",
            "\n",
            "                                               image  \n",
            "0  https://images.openfoodfacts.org/images/produc...  \n",
            "1  https://images.openfoodfacts.org/images/produc...  \n",
            "2  https://images.openfoodfacts.org/images/produc...  \n",
            "3  https://images.openfoodfacts.org/images/produc...  \n",
            "4  https://images.openfoodfacts.org/images/produc...  \n",
            "5  https://images.openfoodfacts.org/images/produc...  \n",
            "6  https://images.openfoodfacts.org/images/produc...  \n",
            "7  https://images.openfoodfacts.org/images/produc...  \n",
            "8  https://images.openfoodfacts.org/images/produc...  \n",
            "9  https://images.openfoodfacts.org/images/produc...  \n",
            "\n",
            "📈 STATISTIQUES DES DONNÉES\n",
            "\n",
            "Nombre total de produits : 10\n",
            "\n",
            "Nombre de valeurs manquantes par colonne :\n",
            "foodId               0\n",
            "label                0\n",
            "category             0\n",
            "foodContentsLabel    0\n",
            "image                0\n",
            "dtype: int64\n",
            "\n",
            "Nombre de produits avec image : 10\n",
            "Nombre de produits avec description : 8\n"
          ]
        }
      ],
      "source": [
        "# Charger et afficher le DataFrame\n",
        "if results and 'products' in results:\n",
        "    df_champagne = pd.DataFrame(products_data)\n",
        "    \n",
        "    print(\"\\n📊 APERÇU DES DONNÉES EXTRAITES\\n\")\n",
        "    print(df_champagne.head(10))\n",
        "    \n",
        "    print(\"\\n📈 STATISTIQUES DES DONNÉES\\n\")\n",
        "    print(f\"Nombre total de produits : {len(df_champagne)}\")\n",
        "    print(f\"\\nNombre de valeurs manquantes par colonne :\")\n",
        "    print(df_champagne.isnull().sum())\n",
        "    print(f\"\\nNombre de produits avec image : {(df_champagne['image'] != 'N/A').sum()}\")\n",
        "    print(f\"Nombre de produits avec description : {(df_champagne['foodContentsLabel'] != 'N/A').sum()}\")\n"
      ]
    },
    {
      "cell_type": "markdown",
      "metadata": {},
      "source": [
        "## 8. Affichage détaillé d'un exemple de produit\n"
      ]
    },
    {
      "cell_type": "markdown",
      "metadata": {},
      "source": []
    },
    {
      "cell_type": "code",
      "execution_count": 19,
      "metadata": {},
      "outputs": [
        {
          "name": "stdout",
          "output_type": "stream",
          "text": [
            "\n",
            "🍾 EXEMPLE DE PRODUIT EXTRAIT\n",
            "\n",
            "----------------------------------------------------------------------\n",
            "foodId               : 8001841769189\n",
            "label                : N/A\n",
            "category             : Produits,Champagnes\n",
            "foodContentsLabel    : N/A\n",
            "image                : https://images.openfoodfacts.org/images/products/800/184/176/9189/front_fr.3.400.jpg\n",
            "----------------------------------------------------------------------\n"
          ]
        }
      ],
      "source": [
        "if results and 'products' in results and len(products_data) > 0:\n",
        "    print(\"\\n🍾 EXEMPLE DE PRODUIT EXTRAIT\\n\")\n",
        "    print(\"-\" * 70)\n",
        "    \n",
        "    example = products_data[0]\n",
        "    for key, value in example.items():\n",
        "        # Tronquer les valeurs trop longues pour l'affichage\n",
        "        display_value = value if len(str(value)) <= 100 else str(value)[:100] + \"...\"\n",
        "        print(f\"{key:20s} : {display_value}\")\n",
        "    \n",
        "    print(\"-\" * 70)\n"
      ]
    },
    {
      "cell_type": "code",
      "execution_count": 20,
      "metadata": {},
      "outputs": [],
      "source": [
        "def collect_openfoodfacts_products(search_term, num_products=10, output_file=None):\n",
        "    \"\"\"\n",
        "    Fonction principale pour collecter des produits depuis Open Food Facts\n",
        "    \n",
        "    Parameters:\n",
        "    -----------\n",
        "    search_term : str\n",
        "        Terme de recherche (ex: 'champagne', 'chocolat', etc.)\n",
        "    num_products : int\n",
        "        Nombre de produits à extraire (par défaut: 10)\n",
        "    output_file : str\n",
        "        Nom du fichier CSV de sortie (par défaut: produits_{search_term}.csv)\n",
        "        \n",
        "    Returns:\n",
        "    --------\n",
        "    pd.DataFrame : DataFrame contenant les produits extraits\n",
        "    \"\"\"\n",
        "    \n",
        "    if output_file is None:\n",
        "        output_file = f\"produits_{search_term.lower().replace(' ', '_')}.csv\"\n",
        "    \n",
        "    # Recherche\n",
        "    results = search_products(search_term, page_size=num_products)\n",
        "    \n",
        "    if results and 'products' in results:\n",
        "        # Extraction\n",
        "        products_data = extract_product_data(results['products'])\n",
        "        \n",
        "        # Sauvegarde\n",
        "        save_to_csv(products_data, filename=output_file)\n",
        "        \n",
        "        # Retour du DataFrame\n",
        "        return pd.DataFrame(products_data)\n",
        "    else:\n",
        "        print(\"❌ Erreur lors de la collecte des produits\")\n",
        "        return None\n"
      ]
    },
    {
      "cell_type": "markdown",
      "metadata": {},
      "source": [
        "---\n",
        "\n",
        "## 📋 Résumé et Conclusions\n",
        "\n",
        "### ✅ Objectifs atteints\n",
        "\n",
        "1. **Connexion à l'API Open Food Facts** : Implémentation réussie avec User-Agent personnalisé\n",
        "2. **Recherche de produits \"champagne\"** : Récupération des 10 premiers résultats\n",
        "3. **Extraction des données requises** :\n",
        "   - `foodId` : Code-barres du produit\n",
        "   - `label` : Nom du produit\n",
        "   - `category` : Catégories du produit\n",
        "   - `foodContentsLabel` : Liste d'ingrédients\n",
        "   - `image` : URL de l'image\n",
        "4. **Export CSV** : Sauvegarde dans `data/artifacts/produits_champagne.csv`\n",
        "\n",
        "### 🎯 Points clés de l'API Open Food Facts\n",
        "\n",
        "- **Avantages** :\n",
        "  - API gratuite sans inscription requise\n",
        "  - Base de données collaborative de +2.8M produits\n",
        "  - Documentation complète\n",
        "  - Données nutritionnelles et images disponibles\n",
        "  \n",
        "- **Limitations** :\n",
        "  - Rate limit : 10 requêtes/min pour les recherches\n",
        "  - Qualité des données variable (données crowdsourcées)\n",
        "  - User-Agent personnalisé obligatoire\n",
        "  - Certains produits peuvent avoir des données incomplètes\n",
        "\n",
        "### 🚀 Recommandations pour la production\n",
        "\n",
        "1. **Gestion des erreurs** : Implémenter une gestion robuste des timeouts et erreurs réseau\n",
        "2. **Respect des rate limits** : Ajouter des délais entre les requêtes (6 secondes minimum)\n",
        "3. **Validation des données** : Vérifier la complétude des données avant utilisation\n",
        "4. **Cache local** : Télécharger et mettre en cache les données fréquemment utilisées\n",
        "5. **Monitoring** : Logger les requêtes et les erreurs pour débogage\n",
        "\n",
        "### 📊 Intégration dans le projet Place de Marché\n",
        "\n",
        "Ce script démontre la faisabilité d'élargir la gamme de produits à l'épicerie fine en utilisant l'API Open Food Facts. Le même processus peut être appliqué pour d'autres catégories de produits alimentaires de luxe.\n",
        "\n",
        "---\n",
        "\n",
        "**Auteur** : Laureen Dademeule  \n",
        "**Projet** : P6 - Place de Marché - Classification automatique de biens de consommation  \n",
        "**Date** : Octobre 2025\n"
      ]
    },
    {
      "cell_type": "markdown",
      "metadata": {},
      "source": []
    }
  ],
  "metadata": {
    "kernelspec": {
      "display_name": "p6_env_py310",
      "language": "python",
      "name": "python3"
    },
    "language_info": {
      "codemirror_mode": {
        "name": "ipython",
        "version": 3
      },
      "file_extension": ".py",
      "mimetype": "text/x-python",
      "name": "python",
      "nbconvert_exporter": "python",
      "pygments_lexer": "ipython3",
      "version": "3.10.17"
    }
  },
  "nbformat": 4,
  "nbformat_minor": 2
}
