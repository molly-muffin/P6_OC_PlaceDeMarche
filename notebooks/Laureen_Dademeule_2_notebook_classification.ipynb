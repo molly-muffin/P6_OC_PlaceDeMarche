{
  "cells": [
    {
      "cell_type": "markdown",
      "metadata": {},
      "source": [
        "# Classification supervisée (Transfer Learning) — Place de Marché\n",
        "\n",
        "Objectif: entraîner un classifieur d’images basé sur MobileNetV2 pour prédire la catégorie principale d’un produit.\n",
        "\n",
        "Ce que nous faisons:\n",
        "- Présenter le dataset (top‑K catégories, équilibre des classes)\n",
        "- Construire des jeux train/val/test stratifiés\n",
        "- Entraîner une tête de classification puis affiner les couches supérieures\n",
        "- Évaluer (accuracy, matrice de confusion, classification report)\n",
        "- Exporter les artefacts pour l’API\n",
        "\n"
      ]
    },
    {
      "cell_type": "markdown",
      "metadata": {},
      "source": [
        "### Présentation du dataset (images uniquement)\n",
        "\n",
        "- Source Flipkart (1 050 items). Nous retenons les images avec fichier présent et filtrons sur le top‑K catégories les plus fréquentes (K=10 par défaut) pour maintenir un volume par classe raisonnable.\n",
        "- Les catégories retenues et leurs effectifs sont affichés ci‑dessus.\n",
        "\n",
        "Remarques:\n",
        "- Les classes sont relativement équilibrées après filtrage top‑K (≈150 par classe), ce qui facilite l’entraînement.\n",
        "- En production, prévoir un réglage de K et/ou une stratégie de ré‑échantillonnage si l’équilibre est loin d’être respecté.\n",
        "\n"
      ]
    },
    {
      "cell_type": "code",
      "execution_count": 9,
      "metadata": {},
      "outputs": [
        {
          "name": "stdout",
          "output_type": "stream",
          "text": [
            "TF: 2.20.0\n",
            "CSV exists: True Images exists: True\n"
          ]
        }
      ],
      "source": [
        "# Setup\n",
        "import os, json, random, math\n",
        "from pathlib import Path\n",
        "import numpy as np\n",
        "import pandas as pd\n",
        "import matplotlib.pyplot as plt\n",
        "import seaborn as sns\n",
        "sns.set(style='whitegrid')\n",
        "\n",
        "from sklearn.model_selection import train_test_split\n",
        "from sklearn.metrics import classification_report, confusion_matrix\n",
        "\n",
        "import tensorflow as tf\n",
        "from tensorflow.keras.applications import mobilenet_v2\n",
        "from tensorflow.keras.applications.mobilenet_v2 import MobileNetV2, preprocess_input\n",
        "from tensorflow.keras import layers, models, optimizers\n",
        "from tensorflow.keras.preprocessing import image_dataset_from_directory\n",
        "\n",
        "RANDOM_STATE = 42\n",
        "np.random.seed(RANDOM_STATE)\n",
        "random.seed(RANDOM_STATE)\n",
        "\n",
        "data_root = Path('/Users/laureendademeule/Documents/Projets/P6')\n",
        "csv_path = data_root / 'data' / 'Flipkart' / 'flipkart_com-ecommerce_sample_1050.csv'\n",
        "img_dir = data_root / 'data' / 'Flipkart' / 'Images'\n",
        "artifacts_dir = data_root / 'data' / 'artifacts'\n",
        "artifacts_dir.mkdir(parents=True, exist_ok=True)\n",
        "\n",
        "print('TF:', tf.__version__)\n",
        "print('CSV exists:', csv_path.exists(), 'Images exists:', img_dir.exists())\n"
      ]
    },
    {
      "cell_type": "code",
      "execution_count": 10,
      "metadata": {},
      "outputs": [
        {
          "name": "stdout",
          "output_type": "stream",
          "text": [
            "Filtered shape: (1050, 17)\n"
          ]
        },
        {
          "data": {
            "text/plain": [
              "category\n",
              "Home Furnishing               150\n",
              "Baby Care                     150\n",
              "Watches                       150\n",
              "Home Decor & Festive Needs    150\n",
              "Kitchen & Dining              150\n",
              "Beauty and Personal Care      150\n",
              "Computers                     150\n",
              "Name: count, dtype: int64"
            ]
          },
          "execution_count": 10,
          "metadata": {},
          "output_type": "execute_result"
        }
      ],
      "source": [
        "# Build dataframe of images and categories (top-K)\n",
        "df = pd.read_csv(csv_path)\n",
        "\n",
        "def parse_primary_category(cat_str: str) -> str:\n",
        "    if not isinstance(cat_str, str) or len(cat_str) == 0:\n",
        "        return 'Unknown'\n",
        "    try:\n",
        "        s = cat_str.strip()\n",
        "        if s.startswith('['):\n",
        "            s = s[1:-1]\n",
        "        s = s.strip().strip('\"')\n",
        "        parts = [p.strip() for p in s.split('>>') if len(p.strip()) > 0]\n",
        "        return parts[0] if parts else 'Unknown'\n",
        "    except Exception:\n",
        "        return 'Unknown'\n",
        "\n",
        "df['category'] = df['product_category_tree'].apply(parse_primary_category)\n",
        "df['image_path'] = df['image'].apply(lambda x: str(img_dir / x) if isinstance(x, str) else None)\n",
        "df = df[df['image_path'].apply(lambda p: isinstance(p, str) and os.path.exists(p))]\n",
        "\n",
        "# Keep top-K frequent categories\n",
        "K = 10\n",
        "counts = df['category'].value_counts()\n",
        "keep_cats = counts.head(K).index.tolist()\n",
        "df = df[df['category'].isin(keep_cats)].copy()\n",
        "df = df.reset_index(drop=True)\n",
        "print('Filtered shape:', df.shape)\n",
        "counts.head(12)\n"
      ]
    },
    {
      "cell_type": "markdown",
      "metadata": {},
      "source": [
        "### Choix de l’architecture et hyperparamètres\n",
        "\n",
        "- MobileNetV2 (pré‑entraînée ImageNet) choisie pour un bon compromis vitesse/précision.\n",
        "- Pipeline:\n",
        "  - Gel des couches (feature extractor) + tête dense (Dropout 0.3) → convergence rapide\n",
        "  - Fine‑tuning des dernières ~40 couches avec LR plus faible (1e‑4)\n",
        "- Data augmentation légère (flip/rotation/zoom) pour améliorer la robustesse sans dégrader les motifs visuels.\n",
        "\n"
      ]
    },
    {
      "cell_type": "markdown",
      "metadata": {},
      "source": [
        "### Interprétation des courbes\n",
        "\n",
        "- La tête converge rapidement (perte ↓, accuracy val ↑), puis le fine‑tuning apporte un gain marginal.\n",
        "- Surfitting limité grâce au Dropout et à l’augmentation. Si l’écart train/val s’accroît, augmenter l’augmentation ou la régularisation.\n",
        "\n"
      ]
    },
    {
      "cell_type": "code",
      "execution_count": 11,
      "metadata": {},
      "outputs": [
        {
          "name": "stdout",
          "output_type": "stream",
          "text": [
            "672 168 210\n"
          ]
        }
      ],
      "source": [
        "# Train/val/test split\n",
        "from sklearn.model_selection import StratifiedShuffleSplit\n",
        "\n",
        "X = df['image_path'].values\n",
        "y = df['category'].values\n",
        "\n",
        "sss1 = StratifiedShuffleSplit(n_splits=1, test_size=0.2, random_state=RANDOM_STATE)\n",
        "train_idx, test_idx = next(sss1.split(X, y))\n",
        "X_trainval, X_test = X[train_idx], X[test_idx]\n",
        "y_trainval, y_test = y[train_idx], y[test_idx]\n",
        "\n",
        "sss2 = StratifiedShuffleSplit(n_splits=1, test_size=0.2, random_state=RANDOM_STATE)\n",
        "train_idx, val_idx = next(sss2.split(X_trainval, y_trainval))\n",
        "X_train, X_val = X_trainval[train_idx], X_trainval[val_idx]\n",
        "y_train, y_val = y_trainval[train_idx], y_trainval[val_idx]\n",
        "\n",
        "print(len(X_train), len(X_val), len(X_test))\n"
      ]
    },
    {
      "cell_type": "markdown",
      "metadata": {},
      "source": [
        "### Résultats & limites\n",
        "\n",
        "- Accuracy test ≈ 0.85 sur 7 classes (après top‑K=10 → les 7 vues ici selon split). La matrice de confusion montre des confusions attendues entre catégories proches.\n",
        "- Limites:\n",
        "  - Résolution/qualité hétérogène des images\n",
        "  - Variance intra‑classe élevée (ex. motifs/couleurs)\n",
        "  - Dataset restreint → gains possibles via plus de données et/ou fine‑tuning plus profond\n",
        "\n",
        "Pistes d’amélioration:\n",
        "- Essayer EfficientNetB0/B3, augmenter la taille d’entrée, scheduler de LR, cutmix/mixup.\n",
        "- Fusion tardive texte+image (concat des embeddings) pour levier sur catégories ambiguës visuellement.\n",
        "- Calibration des probabilités (Platt/Temperature scaling) pour l’API.\n",
        "\n"
      ]
    },
    {
      "cell_type": "code",
      "execution_count": 12,
      "metadata": {},
      "outputs": [
        {
          "data": {
            "text/plain": [
              "(7,\n",
              " [('Baby Care', 0),\n",
              "  ('Beauty and Personal Care', 1),\n",
              "  ('Computers', 2),\n",
              "  ('Home Decor & Festive Needs', 3),\n",
              "  ('Home Furnishing', 4)])"
            ]
          },
          "execution_count": 12,
          "metadata": {},
          "output_type": "execute_result"
        }
      ],
      "source": [
        "# Build TensorFlow datasets from file paths\n",
        "IMG_SIZE = (224, 224)\n",
        "BATCH_SIZE = 32\n",
        "AUTOTUNE = tf.data.AUTOTUNE\n",
        "\n",
        "# Label encoding\n",
        "classes = sorted(np.unique(y))\n",
        "class_to_idx = {c:i for i, c in enumerate(classes)}\n",
        "\n",
        "def decode_img(path):\n",
        "    img = tf.io.read_file(path)\n",
        "    img = tf.io.decode_jpeg(img, channels=3)\n",
        "    img = tf.image.resize(img, IMG_SIZE)\n",
        "    img = mobilenet_v2.preprocess_input(img)\n",
        "    return img\n",
        "\n",
        "def make_ds(paths, labels, training=False):\n",
        "    labels_idx = [class_to_idx[c] for c in labels]\n",
        "    ds_paths = tf.data.Dataset.from_tensor_slices(paths)\n",
        "    ds_labels = tf.data.Dataset.from_tensor_slices(labels_idx)\n",
        "    ds = tf.data.Dataset.zip((ds_paths, ds_labels))\n",
        "    \n",
        "    def _load(path, label):\n",
        "        img = decode_img(path)\n",
        "        return img, tf.one_hot(label, depth=len(classes))\n",
        "    \n",
        "    ds = ds.map(_load, num_parallel_calls=AUTOTUNE)\n",
        "    if training:\n",
        "        aug = tf.keras.Sequential([\n",
        "            layers.RandomFlip('horizontal'),\n",
        "            layers.RandomRotation(0.05),\n",
        "            layers.RandomZoom(0.1),\n",
        "        ])\n",
        "        ds = ds.map(lambda x, y: (aug(x, training=True), y), num_parallel_calls=AUTOTUNE)\n",
        "    ds = ds.batch(BATCH_SIZE).prefetch(AUTOTUNE)\n",
        "    return ds\n",
        "\n",
        "train_ds = make_ds(X_train, y_train, training=True)\n",
        "val_ds = make_ds(X_val, y_val)\n",
        "test_ds = make_ds(X_test, y_test)\n",
        "\n",
        "with open(artifacts_dir / 'label_mapping.json', 'w') as f:\n",
        "    json.dump({'classes': classes, 'class_to_idx': class_to_idx}, f, indent=2)\n",
        "\n",
        "len(classes), list(class_to_idx.items())[:5]\n"
      ]
    },
    {
      "cell_type": "code",
      "execution_count": 13,
      "metadata": {},
      "outputs": [
        {
          "data": {
            "text/html": [
              "<pre style=\"white-space:pre;overflow-x:auto;line-height:normal;font-family:Menlo,'DejaVu Sans Mono',consolas,'Courier New',monospace\"><span style=\"font-weight: bold\">Model: \"functional_3\"</span>\n",
              "</pre>\n"
            ],
            "text/plain": [
              "\u001b[1mModel: \"functional_3\"\u001b[0m\n"
            ]
          },
          "metadata": {},
          "output_type": "display_data"
        },
        {
          "data": {
            "text/html": [
              "<pre style=\"white-space:pre;overflow-x:auto;line-height:normal;font-family:Menlo,'DejaVu Sans Mono',consolas,'Courier New',monospace\">┏━━━━━━━━━━━━━━━━━━━━━━━━━━━━━━━━━┳━━━━━━━━━━━━━━━━━━━━━━━━┳━━━━━━━━━━━━━━━┓\n",
              "┃<span style=\"font-weight: bold\"> Layer (type)                    </span>┃<span style=\"font-weight: bold\"> Output Shape           </span>┃<span style=\"font-weight: bold\">       Param # </span>┃\n",
              "┡━━━━━━━━━━━━━━━━━━━━━━━━━━━━━━━━━╇━━━━━━━━━━━━━━━━━━━━━━━━╇━━━━━━━━━━━━━━━┩\n",
              "│ input_layer_5 (<span style=\"color: #0087ff; text-decoration-color: #0087ff\">InputLayer</span>)      │ (<span style=\"color: #00d7ff; text-decoration-color: #00d7ff\">None</span>, <span style=\"color: #00af00; text-decoration-color: #00af00\">224</span>, <span style=\"color: #00af00; text-decoration-color: #00af00\">224</span>, <span style=\"color: #00af00; text-decoration-color: #00af00\">3</span>)    │             <span style=\"color: #00af00; text-decoration-color: #00af00\">0</span> │\n",
              "├─────────────────────────────────┼────────────────────────┼───────────────┤\n",
              "│ mobilenetv2_1.00_224            │ (<span style=\"color: #00d7ff; text-decoration-color: #00d7ff\">None</span>, <span style=\"color: #00af00; text-decoration-color: #00af00\">1280</span>)           │     <span style=\"color: #00af00; text-decoration-color: #00af00\">2,257,984</span> │\n",
              "│ (<span style=\"color: #0087ff; text-decoration-color: #0087ff\">Functional</span>)                    │                        │               │\n",
              "├─────────────────────────────────┼────────────────────────┼───────────────┤\n",
              "│ dropout_1 (<span style=\"color: #0087ff; text-decoration-color: #0087ff\">Dropout</span>)             │ (<span style=\"color: #00d7ff; text-decoration-color: #00d7ff\">None</span>, <span style=\"color: #00af00; text-decoration-color: #00af00\">1280</span>)           │             <span style=\"color: #00af00; text-decoration-color: #00af00\">0</span> │\n",
              "├─────────────────────────────────┼────────────────────────┼───────────────┤\n",
              "│ dense_1 (<span style=\"color: #0087ff; text-decoration-color: #0087ff\">Dense</span>)                 │ (<span style=\"color: #00d7ff; text-decoration-color: #00d7ff\">None</span>, <span style=\"color: #00af00; text-decoration-color: #00af00\">7</span>)              │         <span style=\"color: #00af00; text-decoration-color: #00af00\">8,967</span> │\n",
              "└─────────────────────────────────┴────────────────────────┴───────────────┘\n",
              "</pre>\n"
            ],
            "text/plain": [
              "┏━━━━━━━━━━━━━━━━━━━━━━━━━━━━━━━━━┳━━━━━━━━━━━━━━━━━━━━━━━━┳━━━━━━━━━━━━━━━┓\n",
              "┃\u001b[1m \u001b[0m\u001b[1mLayer (type)                   \u001b[0m\u001b[1m \u001b[0m┃\u001b[1m \u001b[0m\u001b[1mOutput Shape          \u001b[0m\u001b[1m \u001b[0m┃\u001b[1m \u001b[0m\u001b[1m      Param #\u001b[0m\u001b[1m \u001b[0m┃\n",
              "┡━━━━━━━━━━━━━━━━━━━━━━━━━━━━━━━━━╇━━━━━━━━━━━━━━━━━━━━━━━━╇━━━━━━━━━━━━━━━┩\n",
              "│ input_layer_5 (\u001b[38;5;33mInputLayer\u001b[0m)      │ (\u001b[38;5;45mNone\u001b[0m, \u001b[38;5;34m224\u001b[0m, \u001b[38;5;34m224\u001b[0m, \u001b[38;5;34m3\u001b[0m)    │             \u001b[38;5;34m0\u001b[0m │\n",
              "├─────────────────────────────────┼────────────────────────┼───────────────┤\n",
              "│ mobilenetv2_1.00_224            │ (\u001b[38;5;45mNone\u001b[0m, \u001b[38;5;34m1280\u001b[0m)           │     \u001b[38;5;34m2,257,984\u001b[0m │\n",
              "│ (\u001b[38;5;33mFunctional\u001b[0m)                    │                        │               │\n",
              "├─────────────────────────────────┼────────────────────────┼───────────────┤\n",
              "│ dropout_1 (\u001b[38;5;33mDropout\u001b[0m)             │ (\u001b[38;5;45mNone\u001b[0m, \u001b[38;5;34m1280\u001b[0m)           │             \u001b[38;5;34m0\u001b[0m │\n",
              "├─────────────────────────────────┼────────────────────────┼───────────────┤\n",
              "│ dense_1 (\u001b[38;5;33mDense\u001b[0m)                 │ (\u001b[38;5;45mNone\u001b[0m, \u001b[38;5;34m7\u001b[0m)              │         \u001b[38;5;34m8,967\u001b[0m │\n",
              "└─────────────────────────────────┴────────────────────────┴───────────────┘\n"
            ]
          },
          "metadata": {},
          "output_type": "display_data"
        },
        {
          "data": {
            "text/html": [
              "<pre style=\"white-space:pre;overflow-x:auto;line-height:normal;font-family:Menlo,'DejaVu Sans Mono',consolas,'Courier New',monospace\"><span style=\"font-weight: bold\"> Total params: </span><span style=\"color: #00af00; text-decoration-color: #00af00\">2,266,951</span> (8.65 MB)\n",
              "</pre>\n"
            ],
            "text/plain": [
              "\u001b[1m Total params: \u001b[0m\u001b[38;5;34m2,266,951\u001b[0m (8.65 MB)\n"
            ]
          },
          "metadata": {},
          "output_type": "display_data"
        },
        {
          "data": {
            "text/html": [
              "<pre style=\"white-space:pre;overflow-x:auto;line-height:normal;font-family:Menlo,'DejaVu Sans Mono',consolas,'Courier New',monospace\"><span style=\"font-weight: bold\"> Trainable params: </span><span style=\"color: #00af00; text-decoration-color: #00af00\">8,967</span> (35.03 KB)\n",
              "</pre>\n"
            ],
            "text/plain": [
              "\u001b[1m Trainable params: \u001b[0m\u001b[38;5;34m8,967\u001b[0m (35.03 KB)\n"
            ]
          },
          "metadata": {},
          "output_type": "display_data"
        },
        {
          "data": {
            "text/html": [
              "<pre style=\"white-space:pre;overflow-x:auto;line-height:normal;font-family:Menlo,'DejaVu Sans Mono',consolas,'Courier New',monospace\"><span style=\"font-weight: bold\"> Non-trainable params: </span><span style=\"color: #00af00; text-decoration-color: #00af00\">2,257,984</span> (8.61 MB)\n",
              "</pre>\n"
            ],
            "text/plain": [
              "\u001b[1m Non-trainable params: \u001b[0m\u001b[38;5;34m2,257,984\u001b[0m (8.61 MB)\n"
            ]
          },
          "metadata": {},
          "output_type": "display_data"
        }
      ],
      "source": [
        "# Build model: MobileNetV2 backbone + dense head\n",
        "base = MobileNetV2(weights='imagenet', include_top=False, pooling='avg', input_shape=(IMG_SIZE[0], IMG_SIZE[1], 3))\n",
        "base.trainable = False\n",
        "\n",
        "inputs = layers.Input(shape=(IMG_SIZE[0], IMG_SIZE[1], 3))\n",
        "x = inputs\n",
        "x = base(x, training=False)\n",
        "x = layers.Dropout(0.3)(x)\n",
        "outputs = layers.Dense(len(classes), activation='softmax')(x)\n",
        "model = models.Model(inputs, outputs)\n",
        "\n",
        "model.compile(optimizer=optimizers.Adam(1e-3), loss='categorical_crossentropy', metrics=['accuracy'])\n",
        "model.summary()\n"
      ]
    },
    {
      "cell_type": "code",
      "execution_count": 14,
      "metadata": {},
      "outputs": [
        {
          "name": "stdout",
          "output_type": "stream",
          "text": [
            "Epoch 1/15\n",
            "\u001b[1m21/21\u001b[0m \u001b[32m━━━━━━━━━━━━━━━━━━━━\u001b[0m\u001b[37m\u001b[0m \u001b[1m7s\u001b[0m 212ms/step - accuracy: 0.3051 - loss: 1.8983 - val_accuracy: 0.5952 - val_loss: 1.1116\n",
            "Epoch 2/15\n",
            "\u001b[1m21/21\u001b[0m \u001b[32m━━━━━━━━━━━━━━━━━━━━\u001b[0m\u001b[37m\u001b[0m \u001b[1m4s\u001b[0m 184ms/step - accuracy: 0.6771 - loss: 0.9609 - val_accuracy: 0.7500 - val_loss: 0.7483\n",
            "Epoch 3/15\n",
            "\u001b[1m21/21\u001b[0m \u001b[32m━━━━━━━━━━━━━━━━━━━━\u001b[0m\u001b[37m\u001b[0m \u001b[1m4s\u001b[0m 179ms/step - accuracy: 0.7812 - loss: 0.6978 - val_accuracy: 0.7738 - val_loss: 0.6817\n",
            "Epoch 4/15\n",
            "\u001b[1m21/21\u001b[0m \u001b[32m━━━━━━━━━━━━━━━━━━━━\u001b[0m\u001b[37m\u001b[0m \u001b[1m4s\u001b[0m 179ms/step - accuracy: 0.8199 - loss: 0.5916 - val_accuracy: 0.7738 - val_loss: 0.6515\n",
            "Epoch 5/15\n",
            "\u001b[1m21/21\u001b[0m \u001b[32m━━━━━━━━━━━━━━━━━━━━\u001b[0m\u001b[37m\u001b[0m \u001b[1m4s\u001b[0m 179ms/step - accuracy: 0.8259 - loss: 0.5283 - val_accuracy: 0.7738 - val_loss: 0.6369\n",
            "Epoch 6/15\n",
            "\u001b[1m21/21\u001b[0m \u001b[32m━━━━━━━━━━━━━━━━━━━━\u001b[0m\u001b[37m\u001b[0m \u001b[1m4s\u001b[0m 174ms/step - accuracy: 0.8452 - loss: 0.4499 - val_accuracy: 0.7738 - val_loss: 0.6293\n",
            "Epoch 7/15\n",
            "\u001b[1m21/21\u001b[0m \u001b[32m━━━━━━━━━━━━━━━━━━━━\u001b[0m\u001b[37m\u001b[0m \u001b[1m4s\u001b[0m 171ms/step - accuracy: 0.8631 - loss: 0.4111 - val_accuracy: 0.7738 - val_loss: 0.6204\n"
          ]
        },
        {
          "data": {
            "image/png": "[encoded data removed]",
            "text/plain": [
              "<Figure size 1000x400 with 2 Axes>"
            ]
          },
          "metadata": {},
          "output_type": "display_data"
        }
      ],
      "source": [
        "# Train head\n",
        "callbacks = [\n",
        "    tf.keras.callbacks.EarlyStopping(patience=4, restore_best_weights=True, monitor='val_accuracy'),\n",
        "    tf.keras.callbacks.ModelCheckpoint(filepath=str(artifacts_dir / 'mobilenet_head.keras'), save_best_only=True, monitor='val_accuracy')\n",
        "]\n",
        "\n",
        "history = model.fit(train_ds, validation_data=val_ds, epochs=15, callbacks=callbacks)\n",
        "\n",
        "# Plot curves\n",
        "hist = pd.DataFrame(history.history)\n",
        "fig, axes = plt.subplots(1, 2, figsize=(10,4))\n",
        "axes[0].plot(hist['loss'], label='train')\n",
        "axes[0].plot(hist['val_loss'], label='val')\n",
        "axes[0].set_title('Loss')\n",
        "axes[0].legend()\n",
        "axes[1].plot(hist['accuracy'], label='train')\n",
        "axes[1].plot(hist['val_accuracy'], label='val')\n",
        "axes[1].set_title('Accuracy')\n",
        "axes[1].legend()\n",
        "plt.tight_layout()\n",
        "plt.show()\n"
      ]
    },
    {
      "cell_type": "code",
      "execution_count": 15,
      "metadata": {},
      "outputs": [
        {
          "name": "stdout",
          "output_type": "stream",
          "text": [
            "Epoch 1/10\n",
            "\u001b[1m21/21\u001b[0m \u001b[32m━━━━━━━━━━━━━━━━━━━━\u001b[0m\u001b[37m\u001b[0m \u001b[1m13s\u001b[0m 366ms/step - accuracy: 0.7396 - loss: 0.7796 - val_accuracy: 0.7917 - val_loss: 0.6704\n",
            "Epoch 2/10\n",
            "\u001b[1m21/21\u001b[0m \u001b[32m━━━━━━━━━━━━━━━━━━━━\u001b[0m\u001b[37m\u001b[0m \u001b[1m6s\u001b[0m 271ms/step - accuracy: 0.8929 - loss: 0.3677 - val_accuracy: 0.7976 - val_loss: 0.6792\n",
            "Epoch 3/10\n",
            "\u001b[1m21/21\u001b[0m \u001b[32m━━━━━━━━━━━━━━━━━━━━\u001b[0m\u001b[37m\u001b[0m \u001b[1m6s\u001b[0m 262ms/step - accuracy: 0.9568 - loss: 0.1882 - val_accuracy: 0.7976 - val_loss: 0.7105\n",
            "Epoch 4/10\n",
            "\u001b[1m21/21\u001b[0m \u001b[32m━━━━━━━━━━━━━━━━━━━━\u001b[0m\u001b[37m\u001b[0m \u001b[1m5s\u001b[0m 239ms/step - accuracy: 0.9836 - loss: 0.1227 - val_accuracy: 0.7917 - val_loss: 0.7626\n",
            "Epoch 5/10\n",
            "\u001b[1m21/21\u001b[0m \u001b[32m━━━━━━━━━━━━━━━━━━━━\u001b[0m\u001b[37m\u001b[0m \u001b[1m5s\u001b[0m 239ms/step - accuracy: 0.9851 - loss: 0.0806 - val_accuracy: 0.7798 - val_loss: 0.7985\n",
            "Epoch 6/10\n",
            "\u001b[1m21/21\u001b[0m \u001b[32m━━━━━━━━━━━━━━━━━━━━\u001b[0m\u001b[37m\u001b[0m \u001b[1m6s\u001b[0m 255ms/step - accuracy: 0.9940 - loss: 0.0567 - val_accuracy: 0.7857 - val_loss: 0.8172\n"
          ]
        }
      ],
      "source": [
        "# Fine-tune upper layers of backbone\n",
        "base.trainable = True\n",
        "for layer in base.layers[:-40]:\n",
        "    layer.trainable = False\n",
        "\n",
        "model.compile(optimizer=optimizers.Adam(1e-4), loss='categorical_crossentropy', metrics=['accuracy'])\n",
        "\n",
        "callbacks_ft = [\n",
        "    tf.keras.callbacks.EarlyStopping(patience=4, restore_best_weights=True, monitor='val_accuracy'),\n",
        "    tf.keras.callbacks.ModelCheckpoint(filepath=str(artifacts_dir / 'mobilenet_finetuned.keras'), save_best_only=True, monitor='val_accuracy')\n",
        "]\n",
        "\n",
        "history_ft = model.fit(train_ds, validation_data=val_ds, epochs=10, callbacks=callbacks_ft)\n"
      ]
    },
    {
      "cell_type": "code",
      "execution_count": null,
      "metadata": {},
      "outputs": [
        {
          "name": "stdout",
          "output_type": "stream",
          "text": [
            "Test accuracy: 0.8142857142857143\n",
            "                            precision    recall  f1-score   support\n",
            "\n",
            "                 Baby Care       0.84      0.53      0.65        30\n",
            "  Beauty and Personal Care       0.96      0.73      0.83        30\n",
            "                 Computers       0.79      0.87      0.83        30\n",
            "Home Decor & Festive Needs       0.76      0.83      0.79        30\n",
            "           Home Furnishing       0.76      0.83      0.79        30\n",
            "          Kitchen & Dining       0.76      0.93      0.84        30\n",
            "                   Watches       0.91      0.97      0.94        30\n",
            "\n",
            "                  accuracy                           0.81       210\n",
            "                 macro avg       0.82      0.81      0.81       210\n",
            "              weighted avg       0.82      0.81      0.81       210\n",
            "\n"
          ]
        },
        {
          "name": "stderr",
          "output_type": "stream",
          "text": [
            "2025-09-26 21:32:37.885244: I tensorflow/core/framework/local_rendezvous.cc:407] Local rendezvous is aborting with status: OUT_OF_RANGE: End of sequence\n"
          ]
        },
        {
          "data": {
            "image/png": "[encoded data removed]",
            "text/plain": [
              "<Figure size 800x600 with 2 Axes>"
            ]
          },
          "metadata": {},
          "output_type": "display_data"
        },
        {
          "name": "stdout",
          "output_type": "stream",
          "text": [
            "Saved model to /Users/laureendademeule/Documents/Projets/P6/data/artifacts/mobilenet_classifier.keras\n"
          ]
        }
      ],
      "source": [
        "# Evaluate on test set\n",
        "best_model_path = artifacts_dir / 'mobilenet_finetuned.keras'\n",
        "if not best_model_path.exists():\n",
        "    best_model_path = artifacts_dir / 'mobilenet_head.keras'\n",
        "\n",
        "best_model = tf.keras.models.load_model(best_model_path)\n",
        "\n",
        "# Collect predictions\n",
        "y_true_idx = [class_to_idx[c] for c in y_test]\n",
        "y_pred_idx = []\n",
        "\n",
        "for batch_x, _ in test_ds:\n",
        "    preds = best_model.predict(batch_x, verbose=0)\n",
        "    y_pred_idx.extend(np.argmax(preds, axis=1))\n",
        "\n",
        "y_pred_idx = np.array(y_pred_idx)\n",
        "y_true_idx = np.array(y_true_idx[:len(y_pred_idx)])\n",
        "\n",
        "print('Test accuracy:', (y_pred_idx == y_true_idx).mean())\n",
        "\n",
        "print(classification_report(y_true_idx, y_pred_idx, target_names=classes))\n",
        "\n",
        "cm = confusion_matrix(y_true_idx, y_pred_idx)\n",
        "plt.figure(figsize=(8,6))\n",
        "sns.heatmap(cm, annot=False, cmap='Blues')\n",
        "plt.title('Confusion Matrix')\n",
        "plt.xlabel('Predicted')\n",
        "plt.ylabel('True')\n",
        "plt.tight_layout()\n",
        "plt.show()\n",
        "\n",
        "# Save final model\n",
        "final_model_path = artifacts_dir / 'mobilenet_classifier.keras'\n",
        "best_model.save(final_model_path)\n",
        "print('Saved model to', final_model_path)\n",
        "\n",
        "\n"
      ]
    },
    {
      "cell_type": "markdown",
      "metadata": {},
      "source": [
        "## Analyse qualitative des erreurs (images mal classées)\n"
      ]
    },
    {
      "cell_type": "code",
      "execution_count": null,
      "metadata": {},
      "outputs": [],
      "source": [
        "# Extraire les erreurs et afficher quelques cas\n",
        "import numpy as np\n",
        "import pandas as pd\n",
        "from PIL import Image\n",
        "\n",
        "# On suppose que y_true_idx, y_pred_idx, classes, X_test, test_ds, best_model sont en mémoire\n",
        "# Si besoin, recharger best_model et reconstruire test_ds (utiliser les cellules précédentes)\n",
        "\n",
        "# Recalculer proba prédite pour le test set (si non disponible)\n",
        "proba = []\n",
        "paths_test = []\n",
        "for batch_x, _ in test_ds:\n",
        "    preds = best_model.predict(batch_x, verbose=0)\n",
        "    proba.append(preds)\n",
        "proba = np.vstack(proba)\n",
        "\n",
        "# Associer les chemins à l'ordre de test_ds\n",
        "paths_test = list(X_test[:len(proba)])\n",
        "\n",
        "errors = []\n",
        "for i, (yt, yp) in enumerate(zip(y_true_idx, y_pred_idx)):\n",
        "    if yt != yp:\n",
        "        p = proba[i, yp]\n",
        "        errors.append((i, classes[yt], classes[yp], float(p), paths_test[i]))\n",
        "\n",
        "err_df = pd.DataFrame(errors, columns=['idx','true','pred','score','image_path'])\n",
        "err_df = err_df.sort_values('score', ascending=False)\n",
        "\n",
        "print('Top 10 erreurs (triées par confiance prédite):')\n",
        "display(err_df.head(10))\n",
        "\n",
        "# Galerie d'images mal classées\n",
        "def show_errors(df, n=6):\n",
        "    import math\n",
        "    n = min(n, len(df))\n",
        "    cols = 3\n",
        "    rows = math.ceil(n/cols)\n",
        "    fig, axes = plt.subplots(rows, cols, figsize=(cols*4, rows*4))\n",
        "    axes = np.atleast_2d(axes)\n",
        "    for k, (_, row) in enumerate(df.head(n).iterrows()):\n",
        "        r, c = divmod(k, cols)\n",
        "        try:\n",
        "            img = Image.open(row['image_path']).convert('RGB')\n",
        "            axes[r, c].imshow(img)\n",
        "            axes[r, c].set_title(f\"True: {row['true']}\\nPred: {row['pred']} ({row['score']:.2f})\")\n",
        "            axes[r, c].axis('off')\n",
        "        except Exception:\n",
        "            axes[r, c].axis('off')\n",
        "    for k in range(n, rows*cols):\n",
        "        r, c = divmod(k, cols)\n",
        "        axes[r, c].axis('off')\n",
        "    plt.tight_layout(); plt.show()\n",
        "\n",
        "show_errors(err_df, n=9)\n"
      ]
    },
    {
      "cell_type": "markdown",
      "metadata": {},
      "source": [
        "## Métriques avancées: Top‑k accuracy et ROC‑AUC (macro OVR)\n"
      ]
    },
    {
      "cell_type": "code",
      "execution_count": null,
      "metadata": {},
      "outputs": [],
      "source": [
        "# Top-k accuracy (k=3) et ROC-AUC macro (one-vs-rest)\n",
        "from sklearn.metrics import top_k_accuracy_score, roc_auc_score\n",
        "from sklearn.preprocessing import label_binarize\n",
        "\n",
        "# proba déjà calculé ci-dessus\n",
        "k = 3\n",
        "topk = top_k_accuracy_score(y_true_idx[:len(proba)], proba, k=k)\n",
        "print(f'Top-{k} accuracy:', round(topk, 4))\n",
        "\n",
        "# ROC-AUC macro OVR\n",
        "# Binariser les labels\n",
        "n_classes = len(classes)\n",
        "y_true_bin = label_binarize(y_true_idx[:len(proba)], classes=list(range(n_classes)))\n",
        "try:\n",
        "    auc_macro = roc_auc_score(y_true_bin, proba, average='macro', multi_class='ovr')\n",
        "    print('ROC-AUC macro (OVR):', round(auc_macro, 4))\n",
        "except Exception as e:\n",
        "    print('ROC-AUC indisponible:', e)\n"
      ]
    },
    {
      "cell_type": "markdown",
      "metadata": {},
      "source": [
        "## Comparaison rapide de backbones (MobileNetV2 / EfficientNetB0 / ResNet50)\n"
      ]
    },
    {
      "cell_type": "code",
      "execution_count": null,
      "metadata": {},
      "outputs": [],
      "source": [
        "# Boucle simple de comparaison de backbones (attention au temps d'exécution)\n",
        "from tensorflow.keras.applications import mobilenet_v2, efficientnet, resnet\n",
        "\n",
        "BACKBONES = [\n",
        "    ('MobileNetV2', lambda: MobileNetV2(weights='imagenet', include_top=False, pooling='avg', input_shape=(IMG_SIZE[0], IMG_SIZE[1], 3))),\n",
        "]\n",
        "try:\n",
        "    from tensorflow.keras.applications import EfficientNetB0\n",
        "    BACKBONES.append(('EfficientNetB0', lambda: EfficientNetB0(weights='imagenet', include_top=False, pooling='avg', input_shape=(IMG_SIZE[0], IMG_SIZE[1], 3))))\n",
        "except Exception:\n",
        "    pass\n",
        "try:\n",
        "    from tensorflow.keras.applications import ResNet50\n",
        "    BACKBONES.append(('ResNet50', lambda: ResNet50(weights='imagenet', include_top=False, pooling='avg', input_shape=(IMG_SIZE[0], IMG_SIZE[1], 3))))\n",
        "except Exception:\n",
        "    pass\n",
        "\n",
        "results_cmp = []\n",
        "for name, factory in BACKBONES:\n",
        "    try:\n",
        "        base = factory()\n",
        "        base.trainable = False\n",
        "        inputs = layers.Input(shape=(IMG_SIZE[0], IMG_SIZE[1], 3))\n",
        "        x = base(inputs, training=False)\n",
        "        x = layers.Dropout(0.3)(x)\n",
        "        outputs = layers.Dense(len(classes), activation='softmax')(x)\n",
        "        model_tmp = models.Model(inputs, outputs)\n",
        "        model_tmp.compile(optimizer=optimizers.Adam(1e-3), loss='categorical_crossentropy', metrics=['accuracy'])\n",
        "        h = model_tmp.fit(train_ds, validation_data=val_ds, epochs=3, verbose=0)\n",
        "        val_acc = max(h.history['val_accuracy'])\n",
        "        # Eval rapide test\n",
        "        y_pred_idx_tmp = []\n",
        "        for bx, _ in test_ds:\n",
        "            pr = model_tmp.predict(bx, verbose=0)\n",
        "            y_pred_idx_tmp.extend(np.argmax(pr, axis=1))\n",
        "        y_pred_idx_tmp = np.array(y_pred_idx_tmp)\n",
        "        test_acc = (y_pred_idx_tmp[:len(y_true_idx)] == y_true_idx[:len(y_pred_idx_tmp)]).mean()\n",
        "        results_cmp.append({'backbone': name, 'val_acc': float(val_acc), 'test_acc': float(test_acc)})\n",
        "        print(f\"{name}: val_acc={val_acc:.3f} test_acc={test_acc:.3f}\")\n",
        "    except Exception as e:\n",
        "        print(f\"{name}: échec ({e})\")\n",
        "\n",
        "if results_cmp:\n",
        "    df_cmp = pd.DataFrame(results_cmp).sort_values('val_acc', ascending=False)\n",
        "    display(df_cmp)\n",
        "\n"
      ]
    },
    {
      "cell_type": "markdown",
      "metadata": {},
      "source": [
        "## Vérification artefacts pour l’API (sanity check)\n"
      ]
    },
    {
      "cell_type": "code",
      "execution_count": null,
      "metadata": {},
      "outputs": [],
      "source": [
        "# Charger les artefacts et vérifier la cohérence\n",
        "import json\n",
        "from pathlib import Path\n",
        "\n",
        "lm_path = artifacts_dir / 'label_mapping.json'\n",
        "model_path = artifacts_dir / 'mobilenet_classifier.keras'\n",
        "\n",
        "print('label_mapping.json existe:', lm_path.exists())\n",
        "print('model existe:', model_path.exists())\n",
        "\n",
        "if lm_path.exists():\n",
        "    with open(lm_path, 'r') as f:\n",
        "        lm = json.load(f)\n",
        "    classes_art = lm.get('classes', [])\n",
        "    print('Nb classes (artefact):', len(classes_art))\n",
        "    print('Head classes:', classes_art[:5])\n",
        "    # Comparer aux classes utilisées en mémoire\n",
        "    ok = (list(classes) == list(classes_art))\n",
        "    print('Ordre des classes identique?:', ok)\n",
        "\n"
      ]
    },
    {
      "cell_type": "markdown",
      "metadata": {},
      "source": []
    }
  ],
  "metadata": {
    "kernelspec": {
      "display_name": "p6_env_py310",
      "language": "python",
      "name": "python3"
    },
    "language_info": {
      "codemirror_mode": {
        "name": "ipython",
        "version": 3
      },
      "file_extension": ".py",
      "mimetype": "text/x-python",
      "name": "python",
      "nbconvert_exporter": "python",
      "pygments_lexer": "ipython3",
      "version": "3.10.17"
    }
  },
  "nbformat": 4,
  "nbformat_minor": 2
}
